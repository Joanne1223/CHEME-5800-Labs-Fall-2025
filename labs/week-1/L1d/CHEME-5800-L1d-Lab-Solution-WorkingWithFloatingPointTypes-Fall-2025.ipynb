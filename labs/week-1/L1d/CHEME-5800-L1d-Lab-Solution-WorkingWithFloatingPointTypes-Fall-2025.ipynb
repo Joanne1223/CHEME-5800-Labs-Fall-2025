{
 "cells": [
  {
   "cell_type": "markdown",
   "id": "3674061c-9231-46cc-bddf-fb5bfddc5d2b",
   "metadata": {},
   "source": [
    "# L1d: A Deeper Dive into Numbers and Floating-Point Types\n",
    "In this lab, we will drill into the representation of floating-point numbers.\n",
    "\n",
    "We work with numerical data in science, technology, engineering, and mathematics (STEM) all the time. But have you ever stopped to wonder how computers actually represent (and manipulate) numbers? Let's explore the secret life of common floating-point data types, how they are represented in memory, and the precision associated with each type.\n",
    "\n",
    "> __Key (surprising) fact__: Integer values on computers are __exact__ representations. However, all floating-point numbers are __approximations__! A floating-point value uses a _fixed number of bits_ to store a value, so it can only represent a finite set of rational values rather than the continuum of real numbers. Thus, any real number must be rounded to the nearest floating-point value, making every floating-point value an approximation.\n",
    "\n",
    "The typical floating-point number types you will likely encounter in applications are `Float16`, `Float32`, and `Float64`. But what do these numbers mean? For example, what do the `16`, `32`, and `64` mean in `FloatXX`, what precision can these numbers describe, and how are they represented in memory? 16, 32, 64 代表記憶寬度\n",
    "\n",
    "**What we'll cover:** On conventional (non-quantum) hardware, floating-point numbers are stored as binary values (base `2`). Let's start by reviewing base-`b` positional notation, then examine integer bitstrings and finally dig into floating-point formats.\n",
    "\n",
    "Let's explore the secret life of floating-point numbers."
   ]
  },
  {
   "cell_type": "markdown",
   "id": "ca74b7e5-c971-42c5-b405-ce8a96db5a1b",
   "metadata": {},
   "source": [
    "___"
   ]
  },
  {
   "cell_type": "markdown",
   "id": "559462cd",
   "metadata": {},
   "source": [
    "## Setup, Data, and Prerequisites\n",
    "First, we set up the computational environment by including the `Include.jl` file and loading any needed resources.\n",
    "\n",
    "The [include command](https://docs.julialang.org/en/v1/base/base/#include) evaluates the contents of the input source file, `Include.jl`, in the notebook's global scope. The `Include.jl` file sets paths, loads required external packages, etc. For additional information on functions and types used in this material, see the [Julia programming language documentation](https://docs.julialang.org/en/v1/). "
   ]
  },
  {
   "cell_type": "code",
   "execution_count": 1,
   "id": "23b63f21",
   "metadata": {},
   "outputs": [
    {
     "name": "stderr",
     "output_type": "stream",
     "text": [
      "\u001b[32m\u001b[1m     Cloning\u001b[22m\u001b[39m git-repo `https://github.com/varnerlab/VLDataScienceMachineLearningPackage.jl.git`\n",
      "\u001b[32m\u001b[1m    Updating\u001b[22m\u001b[39m git-repo `https://github.com/varnerlab/VLDataScienceMachineLearningPackage.jl.git`\n",
      "\u001b[32m\u001b[1m    Updating\u001b[22m\u001b[39m registry at `C:\\Users\\Joanne\\.julia\\registries\\General.toml`\n",
      "\u001b[32m\u001b[1m   Resolving\u001b[22m\u001b[39m package versions...\n",
      "\u001b[32m\u001b[1m   Installed\u001b[22m\u001b[39m JLD2 ────────────── v0.6.0\n",
      "\u001b[32m\u001b[1m   Installed\u001b[22m\u001b[39m ChunkCodecCore ──── v0.5.3\n",
      "\u001b[32m\u001b[1m   Installed\u001b[22m\u001b[39m ChunkCodecLibZstd ─ v0.2.1\n",
      "\u001b[32m\u001b[1m   Installed\u001b[22m\u001b[39m ChunkCodecLibZlib ─ v0.2.1\n",
      "\u001b[32m\u001b[1m    Updating\u001b[22m\u001b[39m `C:\\Users\\Joanne\\Documents\\CHEME-5800-Labs-Fall-2025\\labs\\week-1\\L1d\\Project.toml`\n",
      "  \u001b[90m[336ed68f] \u001b[39m\u001b[92m+ CSV v0.10.15\u001b[39m\n",
      "  \u001b[90m[aaaa29a8] \u001b[39m\u001b[92m+ Clustering v0.15.8\u001b[39m\n",
      "  \u001b[90m[5ae59095] \u001b[39m\u001b[92m+ Colors v0.13.1\u001b[39m\n",
      "  \u001b[90m[a93c6f00] \u001b[39m\u001b[92m+ DataFrames v1.7.1\u001b[39m\n",
      "  \u001b[90m[b4f34e82] \u001b[39m\u001b[92m+ Distances v0.10.12\u001b[39m\n",
      "  \u001b[90m[31c24e10] \u001b[39m\u001b[92m+ Distributions v0.25.120\u001b[39m\n",
      "  \u001b[90m[5789e2e9] \u001b[39m\u001b[92m+ FileIO v1.17.0\u001b[39m\n",
      "  \u001b[90m[033835bb] \u001b[39m\u001b[92m+ JLD2 v0.6.0\u001b[39m\n",
      "  \u001b[90m[91a5bcdd] \u001b[39m\u001b[92m+ Plots v1.40.19\u001b[39m\n",
      "\u001b[33m⌅\u001b[39m \u001b[90m[08abe8d2] \u001b[39m\u001b[92m+ PrettyTables v2.4.0\u001b[39m\n",
      "  \u001b[90m[10745b16] \u001b[39m\u001b[92m+ Statistics v1.11.1\u001b[39m\n",
      "  \u001b[90m[f3b207a7] \u001b[39m\u001b[92m+ StatsPlots v0.15.7\u001b[39m\n",
      "  \u001b[90m[24b76065] \u001b[39m\u001b[92m+ VLDataScienceMachineLearningPackage v0.1.0 `https://github.com/varnerlab/VLDataScienceMachineLearningPackage.jl.git#main`\u001b[39m\n",
      "  \u001b[90m[37e2e46d] \u001b[39m\u001b[93m~ LinearAlgebra ⇒ v1.11.0\u001b[39m\n",
      "\u001b[32m\u001b[1m    Updating\u001b[22m\u001b[39m `C:\\Users\\Joanne\\Documents\\CHEME-5800-Labs-Fall-2025\\labs\\week-1\\L1d\\Manifest.toml`\n",
      "  \u001b[90m[621f4979] \u001b[39m\u001b[92m+ AbstractFFTs v1.5.0\u001b[39m\n",
      "  \u001b[90m[79e6a3ab] \u001b[39m\u001b[92m+ Adapt v4.3.0\u001b[39m\n",
      "  \u001b[90m[66dad0bd] \u001b[39m\u001b[92m+ AliasTables v1.1.3\u001b[39m\n",
      "  \u001b[90m[7d9fca2a] \u001b[39m\u001b[92m+ Arpack v0.5.4\u001b[39m\n",
      "  \u001b[90m[13072b0f] \u001b[39m\u001b[92m+ AxisAlgorithms v1.1.0\u001b[39m\n",
      "  \u001b[90m[d1d4a3ce] \u001b[39m\u001b[92m+ BitFlags v0.1.9\u001b[39m\n",
      "  \u001b[90m[336ed68f] \u001b[39m\u001b[92m+ CSV v0.10.15\u001b[39m\n",
      "  \u001b[90m[d360d2e6] \u001b[39m\u001b[92m+ ChainRulesCore v1.26.0\u001b[39m\n",
      "\u001b[33m⌅\u001b[39m \u001b[90m[0b6fb165] \u001b[39m\u001b[92m+ ChunkCodecCore v0.5.3\u001b[39m\n",
      "\u001b[33m⌅\u001b[39m \u001b[90m[4c0bbee4] \u001b[39m\u001b[92m+ ChunkCodecLibZlib v0.2.1\u001b[39m\n",
      "\u001b[33m⌅\u001b[39m \u001b[90m[55437552] \u001b[39m\u001b[92m+ ChunkCodecLibZstd v0.2.1\u001b[39m\n",
      "  \u001b[90m[aaaa29a8] \u001b[39m\u001b[92m+ Clustering v0.15.8\u001b[39m\n",
      "  \u001b[90m[944b1d66] \u001b[39m\u001b[92m+ CodecZlib v0.7.8\u001b[39m\n",
      "  \u001b[90m[35d6a980] \u001b[39m\u001b[92m+ ColorSchemes v3.30.0\u001b[39m\n",
      "  \u001b[90m[3da002f7] \u001b[39m\u001b[92m+ ColorTypes v0.12.1\u001b[39m\n",
      "  \u001b[90m[c3611d14] \u001b[39m\u001b[92m+ ColorVectorSpace v0.11.0\u001b[39m\n",
      "  \u001b[90m[5ae59095] \u001b[39m\u001b[92m+ Colors v0.13.1\u001b[39m\n",
      "  \u001b[90m[34da2185] \u001b[39m\u001b[92m+ Compat v4.18.0\u001b[39m\n",
      "  \u001b[90m[f0e56b4a] \u001b[39m\u001b[92m+ ConcurrentUtilities v2.5.0\u001b[39m\n",
      "  \u001b[90m[d38c429a] \u001b[39m\u001b[92m+ Contour v0.6.3\u001b[39m\n",
      "  \u001b[90m[a8cc5b0e] \u001b[39m\u001b[92m+ Crayons v4.1.1\u001b[39m\n",
      "  \u001b[90m[9a962f9c] \u001b[39m\u001b[92m+ DataAPI v1.16.0\u001b[39m\n",
      "  \u001b[90m[a93c6f00] \u001b[39m\u001b[92m+ DataFrames v1.7.1\u001b[39m\n",
      "\u001b[33m⌅\u001b[39m \u001b[90m[864edb3b] \u001b[39m\u001b[92m+ DataStructures v0.18.22\u001b[39m\n",
      "  \u001b[90m[e2d170a0] \u001b[39m\u001b[92m+ DataValueInterfaces v1.0.0\u001b[39m\n",
      "  \u001b[90m[8bb1440f] \u001b[39m\u001b[92m+ DelimitedFiles v1.9.1\u001b[39m\n",
      "  \u001b[90m[b4f34e82] \u001b[39m\u001b[92m+ Distances v0.10.12\u001b[39m\n",
      "  \u001b[90m[31c24e10] \u001b[39m\u001b[92m+ Distributions v0.25.120\u001b[39m\n",
      "  \u001b[90m[ffbed154] \u001b[39m\u001b[92m+ DocStringExtensions v0.9.5\u001b[39m\n",
      "  \u001b[90m[460bff9d] \u001b[39m\u001b[92m+ ExceptionUnwrapping v0.1.11\u001b[39m\n",
      "  \u001b[90m[c87230d0] \u001b[39m\u001b[92m+ FFMPEG v0.4.4\u001b[39m\n",
      "  \u001b[90m[7a1cc6ca] \u001b[39m\u001b[92m+ FFTW v1.9.0\u001b[39m\n",
      "  \u001b[90m[5789e2e9] \u001b[39m\u001b[92m+ FileIO v1.17.0\u001b[39m\n",
      "  \u001b[90m[48062228] \u001b[39m\u001b[92m+ FilePathsBase v0.9.24\u001b[39m\n",
      "  \u001b[90m[1a297f60] \u001b[39m\u001b[92m+ FillArrays v1.13.0\u001b[39m\n",
      "  \u001b[90m[53c48c17] \u001b[39m\u001b[92m+ FixedPointNumbers v0.8.5\u001b[39m\n",
      "  \u001b[90m[1fa38f19] \u001b[39m\u001b[92m+ Format v1.3.7\u001b[39m\n",
      "  \u001b[90m[28b8d3ca] \u001b[39m\u001b[92m+ GR v0.73.17\u001b[39m\n",
      "  \u001b[90m[42e2da0e] \u001b[39m\u001b[92m+ Grisu v1.0.2\u001b[39m\n",
      "  \u001b[90m[cd3eb016] \u001b[39m\u001b[92m+ HTTP v1.10.17\u001b[39m\n",
      "  \u001b[90m[076d061b] \u001b[39m\u001b[92m+ HashArrayMappedTries v0.2.0\u001b[39m\n",
      "  \u001b[90m[34004b35] \u001b[39m\u001b[92m+ HypergeometricFunctions v0.3.28\u001b[39m\n",
      "  \u001b[90m[842dd82b] \u001b[39m\u001b[92m+ InlineStrings v1.4.5\u001b[39m\n",
      "\u001b[33m⌅\u001b[39m \u001b[90m[a98d9a8b] \u001b[39m\u001b[92m+ Interpolations v0.15.1\u001b[39m\n",
      "  \u001b[90m[41ab1584] \u001b[39m\u001b[92m+ InvertedIndices v1.3.1\u001b[39m\n",
      "  \u001b[90m[92d709cd] \u001b[39m\u001b[92m+ IrrationalConstants v0.2.4\u001b[39m\n",
      "  \u001b[90m[82899510] \u001b[39m\u001b[92m+ IteratorInterfaceExtensions v1.0.0\u001b[39m\n",
      "  \u001b[90m[033835bb] \u001b[39m\u001b[92m+ JLD2 v0.6.0\u001b[39m\n",
      "  \u001b[90m[1019f520] \u001b[39m\u001b[92m+ JLFzf v0.1.11\u001b[39m\n",
      "  \u001b[90m[692b3bcd] \u001b[39m\u001b[92m+ JLLWrappers v1.7.1\u001b[39m\n",
      "  \u001b[90m[682c06a0] \u001b[39m\u001b[92m+ JSON v0.21.4\u001b[39m\n",
      "  \u001b[90m[5ab0869b] \u001b[39m\u001b[92m+ KernelDensity v0.6.10\u001b[39m\n",
      "  \u001b[90m[b964fa9f] \u001b[39m\u001b[92m+ LaTeXStrings v1.4.0\u001b[39m\n",
      "  \u001b[90m[23fbe1c1] \u001b[39m\u001b[92m+ Latexify v0.16.9\u001b[39m\n",
      "  \u001b[90m[2ab3a3ac] \u001b[39m\u001b[92m+ LogExpFunctions v0.3.29\u001b[39m\n",
      "  \u001b[90m[e6f89c97] \u001b[39m\u001b[92m+ LoggingExtras v1.1.0\u001b[39m\n",
      "  \u001b[90m[1914dd2f] \u001b[39m\u001b[92m+ MacroTools v0.5.16\u001b[39m\n",
      "  \u001b[90m[739be429] \u001b[39m\u001b[92m+ MbedTLS v1.1.9\u001b[39m\n",
      "  \u001b[90m[442fdcdd] \u001b[39m\u001b[92m+ Measures v0.3.2\u001b[39m\n",
      "  \u001b[90m[e1d29d7a] \u001b[39m\u001b[92m+ Missings v1.2.0\u001b[39m\n",
      "  \u001b[90m[6f286f6a] \u001b[39m\u001b[92m+ MultivariateStats v0.10.3\u001b[39m\n",
      "  \u001b[90m[77ba4419] \u001b[39m\u001b[92m+ NaNMath v1.1.3\u001b[39m\n",
      "  \u001b[90m[b8a86587] \u001b[39m\u001b[92m+ NearestNeighbors v0.4.22\u001b[39m\n",
      "  \u001b[90m[510215fc] \u001b[39m\u001b[92m+ Observables v0.5.5\u001b[39m\n",
      "  \u001b[90m[6fe1bfb0] \u001b[39m\u001b[92m+ OffsetArrays v1.17.0\u001b[39m\n",
      "  \u001b[90m[4d8831e6] \u001b[39m\u001b[92m+ OpenSSL v1.5.0\u001b[39m\n",
      "  \u001b[90m[bac558e1] \u001b[39m\u001b[92m+ OrderedCollections v1.8.1\u001b[39m\n",
      "  \u001b[90m[90014a1f] \u001b[39m\u001b[92m+ PDMats v0.11.35\u001b[39m\n",
      "  \u001b[90m[69de0a69] \u001b[39m\u001b[92m+ Parsers v2.8.3\u001b[39m\n",
      "  \u001b[90m[ccf2f8ad] \u001b[39m\u001b[92m+ PlotThemes v3.3.0\u001b[39m\n",
      "  \u001b[90m[995b91a9] \u001b[39m\u001b[92m+ PlotUtils v1.4.3\u001b[39m\n",
      "  \u001b[90m[91a5bcdd] \u001b[39m\u001b[92m+ Plots v1.40.19\u001b[39m\n",
      "  \u001b[90m[2dfb63ee] \u001b[39m\u001b[92m+ PooledArrays v1.4.3\u001b[39m\n",
      "\u001b[33m⌅\u001b[39m \u001b[90m[aea7be01] \u001b[39m\u001b[92m+ PrecompileTools v1.2.1\u001b[39m\n",
      "  \u001b[90m[21216c6a] \u001b[39m\u001b[92m+ Preferences v1.5.0\u001b[39m\n",
      "\u001b[33m⌅\u001b[39m \u001b[90m[08abe8d2] \u001b[39m\u001b[92m+ PrettyTables v2.4.0\u001b[39m\n",
      "  \u001b[90m[43287f4e] \u001b[39m\u001b[92m+ PtrArrays v1.3.0\u001b[39m\n",
      "  \u001b[90m[1fd47b50] \u001b[39m\u001b[92m+ QuadGK v2.11.2\u001b[39m\n",
      "  \u001b[90m[c84ed2f1] \u001b[39m\u001b[92m+ Ratios v0.4.5\u001b[39m\n",
      "  \u001b[90m[3cdcf5f2] \u001b[39m\u001b[92m+ RecipesBase v1.3.4\u001b[39m\n",
      "  \u001b[90m[01d81517] \u001b[39m\u001b[92m+ RecipesPipeline v0.6.12\u001b[39m\n",
      "  \u001b[90m[189a3867] \u001b[39m\u001b[92m+ Reexport v1.2.2\u001b[39m\n",
      "  \u001b[90m[05181044] \u001b[39m\u001b[92m+ RelocatableFolders v1.0.1\u001b[39m\n",
      "  \u001b[90m[ae029012] \u001b[39m\u001b[92m+ Requires v1.3.1\u001b[39m\n",
      "  \u001b[90m[79098fc4] \u001b[39m\u001b[92m+ Rmath v0.8.0\u001b[39m\n",
      "  \u001b[90m[7e506255] \u001b[39m\u001b[92m+ ScopedValues v1.5.0\u001b[39m\n",
      "  \u001b[90m[6c6a2e73] \u001b[39m\u001b[92m+ Scratch v1.3.0\u001b[39m\n",
      "  \u001b[90m[91c51154] \u001b[39m\u001b[92m+ SentinelArrays v1.4.8\u001b[39m\n",
      "  \u001b[90m[992d4aef] \u001b[39m\u001b[92m+ Showoff v1.0.3\u001b[39m\n",
      "  \u001b[90m[777ac1f9] \u001b[39m\u001b[92m+ SimpleBufferStream v1.2.0\u001b[39m\n",
      "  \u001b[90m[a2af1166] \u001b[39m\u001b[92m+ SortingAlgorithms v1.2.2\u001b[39m\n",
      "  \u001b[90m[276daf66] \u001b[39m\u001b[92m+ SpecialFunctions v2.5.1\u001b[39m\n",
      "  \u001b[90m[860ef19b] \u001b[39m\u001b[92m+ StableRNGs v1.0.3\u001b[39m\n",
      "  \u001b[90m[90137ffa] \u001b[39m\u001b[92m+ StaticArrays v1.9.14\u001b[39m\n",
      "  \u001b[90m[1e83bf80] \u001b[39m\u001b[92m+ StaticArraysCore v1.4.3\u001b[39m\n",
      "  \u001b[90m[10745b16] \u001b[39m\u001b[92m+ Statistics v1.11.1\u001b[39m\n",
      "  \u001b[90m[82ae8749] \u001b[39m\u001b[92m+ StatsAPI v1.7.1\u001b[39m\n",
      "  \u001b[90m[2913bbd2] \u001b[39m\u001b[92m+ StatsBase v0.34.6\u001b[39m\n",
      "  \u001b[90m[4c63d2b9] \u001b[39m\u001b[92m+ StatsFuns v1.5.0\u001b[39m\n",
      "  \u001b[90m[f3b207a7] \u001b[39m\u001b[92m+ StatsPlots v0.15.7\u001b[39m\n",
      "  \u001b[90m[892a3eda] \u001b[39m\u001b[92m+ StringManipulation v0.4.1\u001b[39m\n",
      "  \u001b[90m[ab02a1b2] \u001b[39m\u001b[92m+ TableOperations v1.2.0\u001b[39m\n",
      "  \u001b[90m[3783bdb8] \u001b[39m\u001b[92m+ TableTraits v1.0.1\u001b[39m\n",
      "  \u001b[90m[bd369af6] \u001b[39m\u001b[92m+ Tables v1.12.1\u001b[39m\n",
      "  \u001b[90m[62fd8b95] \u001b[39m\u001b[92m+ TensorCore v0.1.1\u001b[39m\n",
      "  \u001b[90m[3bb67fe8] \u001b[39m\u001b[92m+ TranscodingStreams v0.11.3\u001b[39m\n",
      "  \u001b[90m[5c2747f8] \u001b[39m\u001b[92m+ URIs v1.6.1\u001b[39m\n",
      "  \u001b[90m[1cfade01] \u001b[39m\u001b[92m+ UnicodeFun v0.4.1\u001b[39m\n",
      "  \u001b[90m[1986cc42] \u001b[39m\u001b[92m+ Unitful v1.24.0\u001b[39m\n",
      "  \u001b[90m[45397f5d] \u001b[39m\u001b[92m+ UnitfulLatexify v1.7.0\u001b[39m\n",
      "  \u001b[90m[41fe7b60] \u001b[39m\u001b[92m+ Unzip v0.2.0\u001b[39m\n",
      "  \u001b[90m[24b76065] \u001b[39m\u001b[92m+ VLDataScienceMachineLearningPackage v0.1.0 `https://github.com/varnerlab/VLDataScienceMachineLearningPackage.jl.git#main`\u001b[39m\n",
      "  \u001b[90m[ea10d353] \u001b[39m\u001b[92m+ WeakRefStrings v1.4.2\u001b[39m\n",
      "  \u001b[90m[cc8bc4a8] \u001b[39m\u001b[92m+ Widgets v0.6.7\u001b[39m\n",
      "  \u001b[90m[efce3f68] \u001b[39m\u001b[92m+ WoodburyMatrices v1.0.0\u001b[39m\n",
      "  \u001b[90m[76eceee3] \u001b[39m\u001b[92m+ WorkerUtilities v1.6.1\u001b[39m\n",
      "\u001b[33m⌅\u001b[39m \u001b[90m[68821587] \u001b[39m\u001b[92m+ Arpack_jll v3.5.1+1\u001b[39m\n",
      "  \u001b[90m[6e34b625] \u001b[39m\u001b[92m+ Bzip2_jll v1.0.9+0\u001b[39m\n",
      "  \u001b[90m[83423d85] \u001b[39m\u001b[92m+ Cairo_jll v1.18.5+0\u001b[39m\n",
      "  \u001b[90m[ee1fde0b] \u001b[39m\u001b[92m+ Dbus_jll v1.16.2+0\u001b[39m\n",
      "  \u001b[90m[2702e6a9] \u001b[39m\u001b[92m+ EpollShim_jll v0.0.20230411+1\u001b[39m\n",
      "  \u001b[90m[2e619515] \u001b[39m\u001b[92m+ Expat_jll v2.7.1+0\u001b[39m\n",
      "  \u001b[90m[b22a6f82] \u001b[39m\u001b[92m+ FFMPEG_jll v7.1.1+0\u001b[39m\n",
      "  \u001b[90m[f5851436] \u001b[39m\u001b[92m+ FFTW_jll v3.3.11+0\u001b[39m\n",
      "  \u001b[90m[a3f928ae] \u001b[39m\u001b[92m+ Fontconfig_jll v2.17.1+0\u001b[39m\n",
      "  \u001b[90m[d7e528f0] \u001b[39m\u001b[92m+ FreeType2_jll v2.13.4+0\u001b[39m\n",
      "  \u001b[90m[559328eb] \u001b[39m\u001b[92m+ FriBidi_jll v1.0.17+0\u001b[39m\n",
      "  \u001b[90m[0656b61e] \u001b[39m\u001b[92m+ GLFW_jll v3.4.0+2\u001b[39m\n",
      "  \u001b[90m[d2c73de3] \u001b[39m\u001b[92m+ GR_jll v0.73.17+0\u001b[39m\n",
      "  \u001b[90m[b0724c58] \u001b[39m\u001b[92m+ GettextRuntime_jll v0.22.4+0\u001b[39m\n",
      "  \u001b[90m[7746bdde] \u001b[39m\u001b[92m+ Glib_jll v2.84.3+0\u001b[39m\n",
      "  \u001b[90m[3b182d85] \u001b[39m\u001b[92m+ Graphite2_jll v1.3.15+0\u001b[39m\n",
      "  \u001b[90m[2e76f6c2] \u001b[39m\u001b[92m+ HarfBuzz_jll v8.5.1+0\u001b[39m\n",
      "  \u001b[90m[1d5cc7b8] \u001b[39m\u001b[92m+ IntelOpenMP_jll v2025.2.0+0\u001b[39m\n",
      "  \u001b[90m[aacddb02] \u001b[39m\u001b[92m+ JpegTurbo_jll v3.1.2+0\u001b[39m\n",
      "  \u001b[90m[c1c5ebd0] \u001b[39m\u001b[92m+ LAME_jll v3.100.3+0\u001b[39m\n",
      "  \u001b[90m[88015f11] \u001b[39m\u001b[92m+ LERC_jll v4.0.1+0\u001b[39m\n",
      "  \u001b[90m[1d63c593] \u001b[39m\u001b[92m+ LLVMOpenMP_jll v18.1.8+0\u001b[39m\n",
      "  \u001b[90m[dd4b983a] \u001b[39m\u001b[92m+ LZO_jll v2.10.3+0\u001b[39m\n",
      "  \u001b[90m[e9f186c6] \u001b[39m\u001b[92m+ Libffi_jll v3.4.7+0\u001b[39m\n",
      "  \u001b[90m[7e76a0d4] \u001b[39m\u001b[92m+ Libglvnd_jll v1.7.1+1\u001b[39m\n",
      "  \u001b[90m[94ce4f54] \u001b[39m\u001b[92m+ Libiconv_jll v1.18.0+0\u001b[39m\n",
      "  \u001b[90m[4b2f31a3] \u001b[39m\u001b[92m+ Libmount_jll v2.41.1+0\u001b[39m\n",
      "  \u001b[90m[89763e89] \u001b[39m\u001b[92m+ Libtiff_jll v4.7.1+0\u001b[39m\n",
      "  \u001b[90m[38a345b3] \u001b[39m\u001b[92m+ Libuuid_jll v2.41.1+0\u001b[39m\n",
      "  \u001b[90m[856f044c] \u001b[39m\u001b[92m+ MKL_jll v2025.2.0+0\u001b[39m\n",
      "  \u001b[90m[e7412a2a] \u001b[39m\u001b[92m+ Ogg_jll v1.3.6+0\u001b[39m\n",
      "  \u001b[90m[458c3c95] \u001b[39m\u001b[92m+ OpenSSL_jll v3.5.2+0\u001b[39m\n",
      "  \u001b[90m[efe28fd5] \u001b[39m\u001b[92m+ OpenSpecFun_jll v0.5.6+0\u001b[39m\n",
      "  \u001b[90m[91d4177d] \u001b[39m\u001b[92m+ Opus_jll v1.5.2+0\u001b[39m\n",
      "  \u001b[90m[36c8627f] \u001b[39m\u001b[92m+ Pango_jll v1.56.3+0\u001b[39m\n",
      "\u001b[33m⌅\u001b[39m \u001b[90m[30392449] \u001b[39m\u001b[92m+ Pixman_jll v0.44.2+0\u001b[39m\n",
      "  \u001b[90m[c0090381] \u001b[39m\u001b[92m+ Qt6Base_jll v6.8.2+1\u001b[39m\n",
      "  \u001b[90m[629bc702] \u001b[39m\u001b[92m+ Qt6Declarative_jll v6.8.2+1\u001b[39m\n",
      "  \u001b[90m[ce943373] \u001b[39m\u001b[92m+ Qt6ShaderTools_jll v6.8.2+1\u001b[39m\n",
      "  \u001b[90m[e99dba38] \u001b[39m\u001b[92m+ Qt6Wayland_jll v6.8.2+1\u001b[39m\n",
      "  \u001b[90m[f50d1b31] \u001b[39m\u001b[92m+ Rmath_jll v0.5.1+0\u001b[39m\n",
      "  \u001b[90m[a44049a8] \u001b[39m\u001b[92m+ Vulkan_Loader_jll v1.3.243+0\u001b[39m\n",
      "  \u001b[90m[a2964d1f] \u001b[39m\u001b[92m+ Wayland_jll v1.24.0+0\u001b[39m\n",
      "  \u001b[90m[ffd25f8a] \u001b[39m\u001b[92m+ XZ_jll v5.8.1+0\u001b[39m\n",
      "  \u001b[90m[f67eecfb] \u001b[39m\u001b[92m+ Xorg_libICE_jll v1.1.2+0\u001b[39m\n",
      "  \u001b[90m[c834827a] \u001b[39m\u001b[92m+ Xorg_libSM_jll v1.2.6+0\u001b[39m\n",
      "  \u001b[90m[4f6342f7] \u001b[39m\u001b[92m+ Xorg_libX11_jll v1.8.12+0\u001b[39m\n",
      "  \u001b[90m[0c0b7dd1] \u001b[39m\u001b[92m+ Xorg_libXau_jll v1.0.13+0\u001b[39m\n",
      "  \u001b[90m[935fb764] \u001b[39m\u001b[92m+ Xorg_libXcursor_jll v1.2.4+0\u001b[39m\n",
      "  \u001b[90m[a3789734] \u001b[39m\u001b[92m+ Xorg_libXdmcp_jll v1.1.6+0\u001b[39m\n",
      "  \u001b[90m[1082639a] \u001b[39m\u001b[92m+ Xorg_libXext_jll v1.3.7+0\u001b[39m\n",
      "  \u001b[90m[d091e8ba] \u001b[39m\u001b[92m+ Xorg_libXfixes_jll v6.0.1+0\u001b[39m\n",
      "  \u001b[90m[a51aa0fd] \u001b[39m\u001b[92m+ Xorg_libXi_jll v1.8.3+0\u001b[39m\n",
      "  \u001b[90m[d1454406] \u001b[39m\u001b[92m+ Xorg_libXinerama_jll v1.1.6+0\u001b[39m\n",
      "  \u001b[90m[ec84b674] \u001b[39m\u001b[92m+ Xorg_libXrandr_jll v1.5.5+0\u001b[39m\n",
      "  \u001b[90m[ea2f1a96] \u001b[39m\u001b[92m+ Xorg_libXrender_jll v0.9.12+0\u001b[39m\n",
      "  \u001b[90m[c7cfdc94] \u001b[39m\u001b[92m+ Xorg_libxcb_jll v1.17.1+0\u001b[39m\n",
      "  \u001b[90m[cc61e674] \u001b[39m\u001b[92m+ Xorg_libxkbfile_jll v1.1.3+0\u001b[39m\n",
      "  \u001b[90m[e920d4aa] \u001b[39m\u001b[92m+ Xorg_xcb_util_cursor_jll v0.1.5+0\u001b[39m\n",
      "  \u001b[90m[12413925] \u001b[39m\u001b[92m+ Xorg_xcb_util_image_jll v0.4.1+0\u001b[39m\n",
      "  \u001b[90m[2def613f] \u001b[39m\u001b[92m+ Xorg_xcb_util_jll v0.4.1+0\u001b[39m\n",
      "  \u001b[90m[975044d2] \u001b[39m\u001b[92m+ Xorg_xcb_util_keysyms_jll v0.4.1+0\u001b[39m\n",
      "  \u001b[90m[0d47668e] \u001b[39m\u001b[92m+ Xorg_xcb_util_renderutil_jll v0.3.10+0\u001b[39m\n",
      "  \u001b[90m[c22f9ab0] \u001b[39m\u001b[92m+ Xorg_xcb_util_wm_jll v0.4.2+0\u001b[39m\n",
      "  \u001b[90m[35661453] \u001b[39m\u001b[92m+ Xorg_xkbcomp_jll v1.4.7+0\u001b[39m\n",
      "  \u001b[90m[33bec58e] \u001b[39m\u001b[92m+ Xorg_xkeyboard_config_jll v2.44.0+0\u001b[39m\n",
      "  \u001b[90m[c5fb5394] \u001b[39m\u001b[92m+ Xorg_xtrans_jll v1.6.0+0\u001b[39m\n",
      "  \u001b[90m[3161d3a3] \u001b[39m\u001b[92m+ Zstd_jll v1.5.7+1\u001b[39m\n",
      "  \u001b[90m[35ca27e7] \u001b[39m\u001b[92m+ eudev_jll v3.2.14+0\u001b[39m\n",
      "  \u001b[90m[214eeab7] \u001b[39m\u001b[92m+ fzf_jll v0.61.1+0\u001b[39m\n",
      "  \u001b[90m[a4ae2306] \u001b[39m\u001b[92m+ libaom_jll v3.12.1+0\u001b[39m\n",
      "  \u001b[90m[0ac62f75] \u001b[39m\u001b[92m+ libass_jll v0.17.4+0\u001b[39m\n",
      "  \u001b[90m[1183f4f0] \u001b[39m\u001b[92m+ libdecor_jll v0.2.2+0\u001b[39m\n",
      "  \u001b[90m[2db6ffa8] \u001b[39m\u001b[92m+ libevdev_jll v1.13.4+0\u001b[39m\n",
      "  \u001b[90m[f638f0a6] \u001b[39m\u001b[92m+ libfdk_aac_jll v2.0.4+0\u001b[39m\n",
      "  \u001b[90m[36db933b] \u001b[39m\u001b[92m+ libinput_jll v1.28.1+0\u001b[39m\n",
      "  \u001b[90m[b53b4c65] \u001b[39m\u001b[92m+ libpng_jll v1.6.50+0\u001b[39m\n",
      "  \u001b[90m[f27f6e37] \u001b[39m\u001b[92m+ libvorbis_jll v1.3.8+0\u001b[39m\n",
      "  \u001b[90m[009596ad] \u001b[39m\u001b[92m+ mtdev_jll v1.1.7+0\u001b[39m\n",
      "  \u001b[90m[1317d2d5] \u001b[39m\u001b[92m+ oneTBB_jll v2022.0.0+0\u001b[39m\n",
      "  \u001b[90m[1270edf5] \u001b[39m\u001b[92m+ x264_jll v10164.0.1+0\u001b[39m\n",
      "  \u001b[90m[dfaa095f] \u001b[39m\u001b[92m+ x265_jll v4.1.0+0\u001b[39m\n",
      "  \u001b[90m[d8fb68d0] \u001b[39m\u001b[92m+ xkbcommon_jll v1.9.2+0\u001b[39m\n",
      "  \u001b[90m[0dad84c5] \u001b[39m\u001b[92m+ ArgTools v1.1.2\u001b[39m\n",
      "  \u001b[90m[56f22d72] \u001b[39m\u001b[92m+ Artifacts v1.11.0\u001b[39m\n",
      "  \u001b[90m[2a0f44e3] \u001b[39m\u001b[92m+ Base64 v1.11.0\u001b[39m\n",
      "  \u001b[90m[ade2ca70] \u001b[39m\u001b[92m+ Dates v1.11.0\u001b[39m\n",
      "  \u001b[90m[8ba89e20] \u001b[39m\u001b[92m+ Distributed v1.11.0\u001b[39m\n",
      "  \u001b[90m[f43a241f] \u001b[39m\u001b[92m+ Downloads v1.6.0\u001b[39m\n",
      "  \u001b[90m[7b1f6079] \u001b[39m\u001b[92m+ FileWatching v1.11.0\u001b[39m\n",
      "  \u001b[90m[9fa8497b] \u001b[39m\u001b[92m+ Future v1.11.0\u001b[39m\n",
      "  \u001b[90m[b77e0a4c] \u001b[39m\u001b[92m+ InteractiveUtils v1.11.0\u001b[39m\n",
      "  \u001b[90m[4af54fe1] \u001b[39m\u001b[92m+ LazyArtifacts v1.11.0\u001b[39m\n",
      "  \u001b[90m[b27032c2] \u001b[39m\u001b[92m+ LibCURL v0.6.4\u001b[39m\n",
      "  \u001b[90m[76f85450] \u001b[39m\u001b[92m+ LibGit2 v1.11.0\u001b[39m\n",
      "  \u001b[90m[8f399da3] \u001b[39m\u001b[92m+ Libdl v1.11.0\u001b[39m\n",
      "  \u001b[90m[37e2e46d] \u001b[39m\u001b[92m+ LinearAlgebra v1.11.0\u001b[39m\n",
      "  \u001b[90m[56ddb016] \u001b[39m\u001b[92m+ Logging v1.11.0\u001b[39m\n",
      "  \u001b[90m[d6f4376e] \u001b[39m\u001b[92m+ Markdown v1.11.0\u001b[39m\n",
      "  \u001b[90m[a63ad114] \u001b[39m\u001b[92m+ Mmap v1.11.0\u001b[39m\n",
      "  \u001b[90m[ca575930] \u001b[39m\u001b[92m+ NetworkOptions v1.2.0\u001b[39m\n",
      "  \u001b[90m[44cfe95a] \u001b[39m\u001b[92m+ Pkg v1.11.0\u001b[39m\n",
      "  \u001b[90m[de0858da] \u001b[39m\u001b[92m+ Printf v1.11.0\u001b[39m\n",
      "  \u001b[90m[3fa0cd96] \u001b[39m\u001b[92m+ REPL v1.11.0\u001b[39m\n",
      "  \u001b[90m[9a3f8284] \u001b[39m\u001b[92m+ Random v1.11.0\u001b[39m\n",
      "  \u001b[90m[ea8e919c] \u001b[39m\u001b[92m+ SHA v0.7.0\u001b[39m\n",
      "  \u001b[90m[9e88b42a] \u001b[39m\u001b[92m+ Serialization v1.11.0\u001b[39m\n",
      "  \u001b[90m[1a1011a3] \u001b[39m\u001b[92m+ SharedArrays v1.11.0\u001b[39m\n",
      "  \u001b[90m[6462fe0b] \u001b[39m\u001b[92m+ Sockets v1.11.0\u001b[39m\n",
      "  \u001b[90m[2f01184e] \u001b[39m\u001b[92m+ SparseArrays v1.11.0\u001b[39m\n",
      "  \u001b[90m[f489334b] \u001b[39m\u001b[92m+ StyledStrings v1.11.0\u001b[39m\n",
      "  \u001b[90m[4607b0f0] \u001b[39m\u001b[92m+ SuiteSparse\u001b[39m\n",
      "  \u001b[90m[fa267f1f] \u001b[39m\u001b[92m+ TOML v1.0.3\u001b[39m\n",
      "  \u001b[90m[a4e569a6] \u001b[39m\u001b[92m+ Tar v1.10.0\u001b[39m\n",
      "  \u001b[90m[8dfed614] \u001b[39m\u001b[92m+ Test v1.11.0\u001b[39m\n",
      "  \u001b[90m[cf7118a7] \u001b[39m\u001b[92m+ UUIDs v1.11.0\u001b[39m\n",
      "  \u001b[90m[4ec0a83e] \u001b[39m\u001b[92m+ Unicode v1.11.0\u001b[39m\n",
      "  \u001b[90m[e66e0078] \u001b[39m\u001b[92m+ CompilerSupportLibraries_jll v1.1.1+0\u001b[39m\n",
      "  \u001b[90m[deac9b47] \u001b[39m\u001b[92m+ LibCURL_jll v8.6.0+0\u001b[39m\n",
      "  \u001b[90m[e37daf67] \u001b[39m\u001b[92m+ LibGit2_jll v1.7.2+0\u001b[39m\n",
      "  \u001b[90m[29816b5a] \u001b[39m\u001b[92m+ LibSSH2_jll v1.11.0+1\u001b[39m\n",
      "  \u001b[90m[c8ffd9c3] \u001b[39m\u001b[92m+ MbedTLS_jll v2.28.6+0\u001b[39m\n",
      "  \u001b[90m[14a3606d] \u001b[39m\u001b[92m+ MozillaCACerts_jll v2023.12.12\u001b[39m\n",
      "  \u001b[90m[4536629a] \u001b[39m\u001b[92m+ OpenBLAS_jll v0.3.27+1\u001b[39m\n",
      "  \u001b[90m[05823500] \u001b[39m\u001b[92m+ OpenLibm_jll v0.8.5+0\u001b[39m\n",
      "  \u001b[90m[efcefdf7] \u001b[39m\u001b[92m+ PCRE2_jll v10.42.0+1\u001b[39m\n",
      "  \u001b[90m[bea87d4a] \u001b[39m\u001b[92m+ SuiteSparse_jll v7.7.0+0\u001b[39m\n",
      "  \u001b[90m[83775a58] \u001b[39m\u001b[92m+ Zlib_jll v1.2.13+1\u001b[39m\n",
      "  \u001b[90m[8e850b90] \u001b[39m\u001b[92m+ libblastrampoline_jll v5.11.0+0\u001b[39m\n",
      "  \u001b[90m[8e850ede] \u001b[39m\u001b[92m+ nghttp2_jll v1.59.0+0\u001b[39m\n",
      "  \u001b[90m[3f19e933] \u001b[39m\u001b[92m+ p7zip_jll v17.4.0+2\u001b[39m\n",
      "\u001b[36m\u001b[1m        Info\u001b[22m\u001b[39m Packages marked with \u001b[33m⌅\u001b[39m have new versions available but compatibility constraints restrict them from upgrading. To see why use `status --outdated -m`\n",
      "\u001b[92m\u001b[1mPrecompiling\u001b[22m\u001b[39m project...\n",
      "   1608.2 ms\u001b[32m  ✓ \u001b[39m\u001b[90mChunkCodecCore\u001b[39m\n",
      "    886.4 ms\u001b[32m  ✓ \u001b[39m\u001b[90mlibdecor_jll\u001b[39m\n",
      "   1136.7 ms\u001b[32m  ✓ \u001b[39m\u001b[90mChunkCodecLibZstd\u001b[39m\n",
      "   1300.4 ms\u001b[32m  ✓ \u001b[39m\u001b[90mQt6ShaderTools_jll\u001b[39m\n",
      "    768.3 ms\u001b[32m  ✓ \u001b[39m\u001b[90mChunkCodecLibZlib\u001b[39m\n",
      "   2833.5 ms\u001b[32m  ✓ \u001b[39m\u001b[90mLatexify → DataFramesExt\u001b[39m\n",
      "   3274.6 ms\u001b[32m  ✓ \u001b[39m\u001b[90mQt6Declarative_jll\u001b[39m\n",
      "   4943.0 ms\u001b[32m  ✓ \u001b[39mVLDataScienceMachineLearningPackage\n",
      "    774.0 ms\u001b[32m  ✓ \u001b[39m\u001b[90mQt6Wayland_jll\u001b[39m\n",
      "   7450.7 ms\u001b[32m  ✓ \u001b[39mPlots → UnitfulExt\n",
      "  35499.1 ms\u001b[32m  ✓ \u001b[39mJLD2\n",
      "  11 dependencies successfully precompiled in 41 seconds. 261 already precompiled.\n",
      "\u001b[32m\u001b[1m  Activating\u001b[22m\u001b[39m project at `C:\\Users\\Joanne\\Documents\\CHEME-5800-Labs-Fall-2025\\labs\\week-1\\L1d`\n",
      "\u001b[32m\u001b[1m  No Changes\u001b[22m\u001b[39m to `C:\\Users\\Joanne\\Documents\\CHEME-5800-Labs-Fall-2025\\labs\\week-1\\L1d\\Project.toml`\n",
      "\u001b[32m\u001b[1m  No Changes\u001b[22m\u001b[39m to `C:\\Users\\Joanne\\Documents\\CHEME-5800-Labs-Fall-2025\\labs\\week-1\\L1d\\Manifest.toml`\n",
      "\u001b[32m\u001b[1m    Updating\u001b[22m\u001b[39m registry at `C:\\Users\\Joanne\\.julia\\registries\\General.toml`\n",
      "\u001b[32m\u001b[1m    Updating\u001b[22m\u001b[39m git-repo `https://github.com/varnerlab/VLDataScienceMachineLearningPackage.jl.git`\n",
      "\u001b[32m\u001b[1m  No Changes\u001b[22m\u001b[39m to `C:\\Users\\Joanne\\Documents\\CHEME-5800-Labs-Fall-2025\\labs\\week-1\\L1d\\Project.toml`\n",
      "\u001b[32m\u001b[1m  No Changes\u001b[22m\u001b[39m to `C:\\Users\\Joanne\\Documents\\CHEME-5800-Labs-Fall-2025\\labs\\week-1\\L1d\\Manifest.toml`\n"
     ]
    }
   ],
   "source": [
    "include(joinpath(@__DIR__, \"Include.jl\")); # what is this doing?"
   ]
  },
  {
   "cell_type": "markdown",
   "id": "6e14303b",
   "metadata": {},
   "source": [
    "In addition to standard Julia libraries, we'll also use [the `VLDataScienceMachineLearningPackage.jl` package](https://github.com/varnerlab/VLDataScienceMachineLearningPackage.jl), check out [the documentation](https://varnerlab.github.io/VLDataScienceMachineLearningPackage.jl/dev/) for more information on the functions, types and data used in this material. \n",
    "\n",
    "___"
   ]
  },
  {
   "cell_type": "markdown",
   "id": "2b55a4bb-8b15-4027-8b7b-617bc8d378b5",
   "metadata": {},
   "source": [
    "## Theory: Base b representation of numbers\n",
    "A number in base $b$ is represented by a finite sequence of digits $(d_{n}d_{n-1}\\dots{d_{1}}d_{0})_{b}$ where each digit $d_{i}$ satisfies $0\\leq d_{i} < b$. The value (in base 10) of a base-$b$ number is the positional sum:\n",
    "$$\n",
    "\\begin{align*}\n",
    "\\underbrace{(d_{n}d_{n-1}\\dots{d_{1}}d_{0})_{b}}_{\\text{base b}} = \\underbrace{\\sum_{i=0}^{n}d_{i}b^{i}}_{\\text{value in base 10}}\n",
    "\\end{align*}\n",
    "$$\n",
    "Let's use integers for a few examples to better understand this expression (and then we'll move on to floating-point numbers).\n",
    "\n",
    "Consider an `Int64` number. We know that memory storage on modern (non-quantum) hardware is binary, i.e., base $b = 2$; thus, all the digits $d_{i}$ must satisfy $0\\leq d_{i} < 2$.\n",
    "\n",
    "However, how many digits do we have, i.e., the value of $n$? This is the _word size_, i.e., the `64` in `Int64`.\n",
    "\n",
    "> __Hmmm__. Didn't we already see that? Yes — it's the length of the string output from [the `bitstring(...)` method](https://docs.julialang.org/en/v1/base/numbers/#Base.bitstring)! Let's count the number of zero digits and the number of one digits of a test 64-bit integer using the [`count_zeros(...)` method](https://docs.julialang.org/en/v1/base/numbers/#Base.count_zeros) and the [`count_ones(...)` method](https://docs.julialang.org/en/v1/base/numbers/#Base.count_ones).\n",
    "\n",
    "To check the equality condition, we use the [Julia @assert macro](https://docs.julialang.org/en/v1/base/base/#Base.@assert). If the statement passed to the [@assert macro](https://docs.julialang.org/en/v1/base/base/#Base.@assert) evaluates to `false`, i.e., the number of zeros and ones does not equal the `wordsize`, then an [AssertionError](https://docs.julialang.org/en/v1/base/base/#Core.AssertionError) is thrown, alerting us that there is an issue.\n",
    "\n",
    "> __Note__: we use [the equality `==` operator](https://docs.julialang.org/en/v1/manual/missing/#Equality-and-Comparison-Operators) (not the assignment operator `=`). There is also [the `===` comparison operator](https://docs.julialang.org/en/v1/manual/missing/#Equality-and-Comparison-Operators) in Julia, which determines whether `x` and `y` are identical in the sense that no program could distinguish them. We'll see this operator later.\n",
    "\n",
    "So, what do we see?"
   ]
  },
  {
   "cell_type": "code",
   "execution_count": 20,
   "id": "06a48643-7bc4-4bc5-a4f4-5bab011fbc24",
   "metadata": {},
   "outputs": [],
   "source": [
    "let\n",
    "    wordsize = 64; # default word size\n",
    "    x = 32; # pick an integer value (Int64 value by default)\n",
    "    n = count_zeros(x) + count_ones(x) ; # this counts 0's and 1's (doesn't give any info about position)\n",
    "    @assert wordsize == n # see https://docs.julialang.org/en/v1/base/base/#Base.@assert  #assert可以檢查==是否成立，若不成立會跳error\n",
    "end"
   ]
  },
  {
   "cell_type": "markdown",
   "id": "344415d4-0382-400d-a703-bf5d3d8ac931",
   "metadata": {},
   "source": [
    "### Binary numbers\n",
    "We can get the bit pattern (binary representation) of an integer by calling [the `bitstring(...)` method](https://docs.julialang.org/en/v1/base/numbers/#Base.bitstring), but there is a __wrinkle__.\n",
    "\n",
    "> __Wrinkle__: the [`bitstring(...)` method](https://docs.julialang.org/en/v1/base/numbers/#Base.bitstring) returns the bit pattern as a `String`. We'll have to convert that `String` to an array of `0` and `1` to do any computation with these values. More on that shortly.\n",
    "\n",
    "The positions of the `0` and `1` values in the binary number give the number's value. Suppose we get the bit pattern, i.e., the positions of the digits of some integer value `x::Int`, using [the `bitstring(...)` method](https://docs.julialang.org/en/v1/base/numbers/#Base.bitstring) and save this value in the `s::String`."
   ]
  },
  {
   "cell_type": "code",
   "execution_count": 27,
   "id": "9ddbefd4-d94c-459c-88b6-15ced4a7f639",
   "metadata": {},
   "outputs": [
    {
     "data": {
      "text/plain": [
       "(\"0000000000000000000000000000000000000000000000011000100001101000\", 100456)"
      ]
     },
     "execution_count": 27,
     "metadata": {},
     "output_type": "execute_result"
    }
   ],
   "source": [
    "sₒ,xₒ = let\n",
    "    x = 100456; # Int64 value by default\n",
    "    s = bitstring(x)\n",
    "    s,x\n",
    "end"
   ]
  },
  {
   "cell_type": "markdown",
   "id": "a41546b8-0507-425d-9aa6-97476e8b21d2",
   "metadata": {},
   "source": [
    "For the binary string $s$, we sum powers of 2 (the $b^{i}$ terms in the sum) for positions whose digit is `1`, processing the string from right to left. Let's make this more concrete.\n",
    "\n",
    "> __Hypothesis__: We should be able to process the string `s` (compute its positional sum) and recover the integer that generated it. To do this we'll use a few techniques we haven't covered yet. Don't worry about the implementation for now.  \n",
    "\n",
    "To check our hypothesis, we need to do a few things. The first is to convert the bit pattern in `s::String` into an array of numbers (so we can compute the positional sum). \n",
    "\n",
    "The following logic contains a few advanced things, e.g., working with arrays and [`String` and `Char` types](https://docs.julialang.org/en/v1/manual/strings/#man-strings), function piping (`|>`), etc.; don't worry too much about the details yet:"
   ]
  },
  {
   "cell_type": "code",
   "execution_count": 28,
   "id": "1c1674bb-63b7-448f-bcd5-0bff33891e5b",
   "metadata": {},
   "outputs": [
    {
     "data": {
      "text/plain": [
       "64-element Vector{Int64}:\n",
       " 0\n",
       " 0\n",
       " 0\n",
       " 1\n",
       " 0\n",
       " 1\n",
       " 1\n",
       " 0\n",
       " 0\n",
       " 0\n",
       " 0\n",
       " 1\n",
       " 0\n",
       " ⋮\n",
       " 0\n",
       " 0\n",
       " 0\n",
       " 0\n",
       " 0\n",
       " 0\n",
       " 0\n",
       " 0\n",
       " 0\n",
       " 0\n",
       " 0\n",
       " 0"
      ]
     },
     "execution_count": 28,
     "metadata": {},
     "output_type": "execute_result"
    }
   ],
   "source": [
    "#fixing the 1 index issue\n",
    "bit_pattern_array = bitstring(xₒ) |> collect |> reverse .|> x-> parse(Int,x) # This is a magical line!"
   ]
  },
  {
   "cell_type": "markdown",
   "id": "03a62a12-939f-49cd-a173-942545be8de6",
   "metadata": {},
   "source": [
    "__Hmmm__. Okay — we can convert the string to an `Array{Int64,1}`, which is good. However, arrays in Julia are `1`-based, meaning the first index in the array occurs at index `1`. But our positional expressions assume zero-based indexing (first value at index `0`). Can we make a zero-based array in Julia?\n",
    "\n",
    "* __Hack__: Yes — we can copy `bit_pattern_array` into a dictionary (which we can make 0-based), called `bit_pattern_dictionary::Dict{Int64,Int64}`. This allows us to start counting from 0 instead of 1.\n",
    "* __Proper solution__: In addition to this hack (which is convenient), a cleaner solution is to use [an `OffsetArray` from the `OffsetArrays.jl` package](https://github.com/JuliaArrays/OffsetArrays.jl) to fix the 1-based indexing. 這個比較好，因為字典不是in order\n",
    "\n",
    "Let's use `0`-based dictionary hack to populate a dictionary with `bit_pattern_array` values (indexed from zero)."
   ]
  },
  {
   "cell_type": "code",
   "execution_count": 29,
   "id": "90a9ca01-ddd6-4d0b-8e40-8119ee942c47",
   "metadata": {},
   "outputs": [
    {
     "data": {
      "text/plain": [
       "Dict{Int64, Int64} with 64 entries:\n",
       "  5  => 1\n",
       "  56 => 0\n",
       "  35 => 0\n",
       "  55 => 0\n",
       "  60 => 0\n",
       "  30 => 0\n",
       "  32 => 0\n",
       "  6  => 1\n",
       "  45 => 0\n",
       "  4  => 0\n",
       "  13 => 0\n",
       "  54 => 0\n",
       "  63 => 0\n",
       "  62 => 0\n",
       "  58 => 0\n",
       "  52 => 0\n",
       "  12 => 0\n",
       "  28 => 0\n",
       "  23 => 0\n",
       "  41 => 0\n",
       "  43 => 0\n",
       "  11 => 1\n",
       "  36 => 0\n",
       "  39 => 0\n",
       "  7  => 0\n",
       "  ⋮  => ⋮"
      ]
     },
     "execution_count": 29,
     "metadata": {},
     "output_type": "execute_result"
    }
   ],
   "source": [
    "bit_pattern_dictionary = let\n",
    "    bit_pattern_dictionary = Dict{Int64,Int64}(); # Declare memory\n",
    "    for i ∈ eachindex(bit_pattern_array)\n",
    "        bit_pattern_dictionary[i-1] = bit_pattern_array[i] # what are we doing here?\n",
    "    end\n",
    "    bit_pattern_dictionary; # return the 0-based mapping\n",
    "end\n"
   ]
  },
  {
   "cell_type": "code",
   "execution_count": 30,
   "id": "0417e9f0-df0c-46e1-ad03-ba1b9f99deac",
   "metadata": {},
   "outputs": [
    {
     "data": {
      "text/plain": [
       "0"
      ]
     },
     "execution_count": 30,
     "metadata": {},
     "output_type": "execute_result"
    }
   ],
   "source": [
    "bit_pattern_dictionary[4]"
   ]
  },
  {
   "cell_type": "markdown",
   "id": "361b7b3f-1a4c-4c24-b0ea-adcc0461411c",
   "metadata": {},
   "source": [
    "Finally, let's compute the positional sum and see what our number is."
   ]
  },
  {
   "cell_type": "code",
   "execution_count": 31,
   "id": "24bd9e3e-4c6d-4f02-b116-dd16fff714dd",
   "metadata": {},
   "outputs": [
    {
     "name": "stdout",
     "output_type": "stream",
     "text": [
      "Was original your number 100456?\n"
     ]
    }
   ],
   "source": [
    "let\n",
    "\n",
    "    b = 2; # What base do we have?\n",
    "    count = 0; # if this works, when we are finished, this should be our original number\n",
    "    positions = keys(bit_pattern_dictionary) |> collect |> sort; # what is going on here? (we're iterating the 0-based bit_pattern_dictionary)\n",
    "    for i ∈ positions #可以把那個符號改成 \"in\"\n",
    "        dᵢ = bit_pattern_dictionary[i];\n",
    "        count+= (dᵢ)*(b^i) # what is += doing?\n",
    "    end\n",
    "    println(\"Was original your number $(count)?\")\n",
    "end\n"
   ]
  },
  {
   "cell_type": "markdown",
   "id": "b87da0e6",
   "metadata": {},
   "source": [
    "### Thought Question 1: Binary Representation\n",
    "Why do you think computers use binary (base 2) instead of decimal (base 10) for representing numbers internally? What are the advantages and disadvantages of this choice? How might this affect the way we think about numerical computations in programming?"
   ]
  },
  {
   "cell_type": "markdown",
   "id": "382bb09e",
   "metadata": {},
   "source": [
    "___"
   ]
  },
  {
   "cell_type": "markdown",
   "id": "4dca20d2-dc88-4d0c-8dff-36745bb1c19b",
   "metadata": {},
   "source": [
    "### Beyond binary numbers\n",
    "There are many everyday applications for base $b>2$ numbers! Larger bases like decimal (base 10), dozenal (base 12), and sexagesimal (base 60) exist in everyday measurements and commerce. There are also a few others that you may encounter every day, but not realize it:\n",
    "> __Hexadecimal (base 16)__ compactly encodes binary data for color codes; for example, Cornell red is `#B31B1B`, while base 32/64 are used to encode arbitrary binary data (e-mail attachments, URLs, certificates) into printable characters.\n",
    "\n",
    "Though higher bases require a more complex digit set, they dramatically shorten the representation of large values."
   ]
  },
  {
   "cell_type": "markdown",
   "id": "37121074-4f7e-4c3b-bbe1-5fbdc4a490f3",
   "metadata": {},
   "source": [
    "#### Digits Example\n",
    "Let's consider an octal (base 8) example. Instead of calling [the `bitstring(...)` method](https://docs.julialang.org/en/v1/base/numbers/#Base.bitstring) (which always returns a base $b=2$ value), let's explore [the `digits(...)` method](https://docs.julialang.org/en/v1/base/numbers/#Base.digits). The [`digits(...)` method](https://docs.julialang.org/en/v1/base/numbers/#Base.digits) takes a `number,` a `base,` and a `pad` argument and returns the bit pattern for `number` written with respect to `base` assuming a word size equal to `pad.`\n",
    " > __Octal__: Let's use [the `digits(...)` method](https://docs.julialang.org/en/v1/base/numbers/#Base.digits) to get the bit pattern for $n = 74$ written in `base = 8` for a `16-bit` machine. Save this data in the `bit_pattern_array::Vector{Int64}` variable."
   ]
  },
  {
   "cell_type": "code",
   "execution_count": 36,
   "id": "2074e193-c0af-46d1-b7c7-a7c7458c44e7",
   "metadata": {},
   "outputs": [
    {
     "data": {
      "text/plain": [
       "16-element Vector{Int64}:\n",
       " 7\n",
       " 2\n",
       " 0\n",
       " 0\n",
       " 0\n",
       " 0\n",
       " 0\n",
       " 0\n",
       " 0\n",
       " 0\n",
       " 0\n",
       " 0\n",
       " 0\n",
       " 0\n",
       " 0\n",
       " 0"
      ]
     },
     "execution_count": 36,
     "metadata": {},
     "output_type": "execute_result"
    }
   ],
   "source": [
    "bit_pattern_array_octal = digits(23, base=8, pad=16) # produces the bit pattern for a base 8 number"
   ]
  },
  {
   "cell_type": "markdown",
   "id": "4acaed83-c36d-4b8f-b5d7-510f95b2fb10",
   "metadata": {},
   "source": [
    "__Check__: Let's convert the octal number stored in the `bit_pattern_array_octal::Array{Int64,1}` variable back into base 10 by computing the positional sum in base 8."
   ]
  },
  {
   "cell_type": "code",
   "execution_count": 38,
   "id": "e9f0794a-1d3d-4f87-ad18-9cc198be6c98",
   "metadata": {},
   "outputs": [
    {
     "data": {
      "text/plain": [
       "23.0"
      ]
     },
     "execution_count": 38,
     "metadata": {},
     "output_type": "execute_result"
    }
   ],
   "source": [
    "let\n",
    "    # initialize -\n",
    "    bit_pattern_dictionary = Dict{Int64,Int64}();\n",
    "    b = 8.0; # base 8 number of the example (\n",
    "    wordsize = 16;\n",
    "    foreach(i -> bit_pattern_dictionary[i-1] = bit_pattern_array_octal[i], \n",
    "        eachindex(bit_pattern_array_octal)); # compact syntax for building bit dict\n",
    "\n",
    "    # loop -\n",
    "    value = 0.0;\n",
    "    bitrangearray = range(0,stop=(wordsize-1),step=1) |> collect;\n",
    "    for i ∈ bitrangearray\n",
    "         dᵢ = bit_pattern_dictionary[i];\n",
    "         value += (dᵢ)*(b^i)\n",
    "    end\n",
    "\n",
    "    value\n",
    "end"
   ]
  },
  {
   "cell_type": "markdown",
   "id": "fa5416ed",
   "metadata": {},
   "source": [
    "#### Thought Question 2: Number Bases\n",
    "We explored binary (base 2) and octal (base 8) representations. How does the choice of base affect the compactness of representing large numbers? Can you think of real-world applications where using a base other than 10 might be advantageous? What challenges might arise when converting between different bases?\n",
    "\\\n",
    "A: The higher the base, the fewer digits you need to represent the same number. 越高base 需要越少的記憶容量(bits)\n",
    "___"
   ]
  },
  {
   "cell_type": "markdown",
   "id": "d4fb3d79-54b6-4498-95e2-5225f4f2c899",
   "metadata": {},
   "source": [
    "## Floating-point numbers\n",
    "Now that we have seen how integers are laid out in memory, let's explore floating-point formats: `Float16`, `Float32`, and `Float64`. Why have multiple floating-point precisions?\n",
    "\n",
    ">Using multiple floating-point types lets us balance precision and resource usage for different applications:\n",
    "> * `Float16` (half-precision) minimizes memory footprint at the expense of precision — useful for large-scale machine learning inference or graphics where fine precision isn't critical.\n",
    "> * `Float32` (single-precision) offers a good compromise of speed and accuracy for many numerical and real-time workloads.\n",
    "> * `Float64` (double-precision) provides high precision and a wide exponent range needed in scientific computing, simulations, and financial modeling where rounding errors must be controlled.\n",
    "\n",
    "If we need more precision than `Float64`, specialized packages (for example, `Quadmath.jl`) offer larger types such as `Float128`."
   ]
  },
  {
   "cell_type": "markdown",
   "id": "0056b968",
   "metadata": {},
   "source": [
    "<div>\n",
    "    <center>\n",
    "        <img src=\"figs/Fig-64-bit-label-pattern.svg\" width=\"580\"/>\n",
    "    </center>\n",
    "</div>"
   ]
  },
  {
   "cell_type": "markdown",
   "id": "f6141964-eccb-482c-b651-2814b1debcbc",
   "metadata": {},
   "source": [
    "### Example: Memory Layout Float64\n",
    "Suppose we have a floating-point number $x\\in\\mathbb{R}$ that is approximated as a 64-bit value in memory. A 64-bit value $x\\in\\mathbb{R}$ is encoded in memory as:\n",
    "$$\n",
    "\\begin{align*}\n",
    "x = \\underbrace{S}_{\\text{sign}}\\times\\underbrace{\\text{significand}}_{\\text{fraction}}\\times\\underbrace{{2^{E-1023}}}_{\\text{scale}}\n",
    "\\end{align*}\n",
    "$$\n",
    "where:\n",
    "$$\n",
    "\\begin{align*}\n",
    "S &= -1^{d_{63}}\\\\\n",
    "\\text{significand} &= 1 + \\sum_{i = 1}^{52}d_{52-i}2^{-i}\\\\\n",
    "E &= \\sum_{i=52}^{62}d_{i}2^{i - 52}\n",
    "\\end{align*}\n",
    "$$\n",
    "The 64- and 32-bit formats differ in the number of bits allocated to the significand and exponent and in the position of the sign bit; otherwise they follow the same structural layout.\n",
    "\n",
    "Let's compute the components of an example 64-bit floating-point value and see if we can reconstruct the original number. First, choose a test value for $x$:"
   ]
  },
  {
   "cell_type": "code",
   "execution_count": 10,
   "id": "9207053f-0cc6-4697-a6d9-358652aaefce",
   "metadata": {},
   "outputs": [],
   "source": [
    "x = 3.1415926535897; # example 64-bit floating point number, let's use π"
   ]
  },
  {
   "cell_type": "markdown",
   "id": "f52e60cc-51a2-4176-bf6f-560ad0c86147",
   "metadata": {},
   "source": [
    "Next, we'll use [the `bitstring(...)` method](https://docs.julialang.org/en/v1/base/numbers/#Base.bitstring) to get the 64-bit binary String, then we'll convert that into a 0-based bit pattern dictionary which we save in the `d::Dict{Int64,Int64}` variable:"
   ]
  },
  {
   "cell_type": "code",
   "execution_count": 11,
   "id": "d6e23ac2-b44d-4d07-81f4-47a4da751c37",
   "metadata": {},
   "outputs": [
    {
     "data": {
      "text/plain": [
       "Dict{Int64, Int64} with 64 entries:\n",
       "  5  => 0\n",
       "  56 => 0\n",
       "  35 => 1\n",
       "  55 => 0\n",
       "  60 => 0\n",
       "  30 => 1\n",
       "  32 => 1\n",
       "  6  => 1\n",
       "  45 => 1\n",
       "  4  => 0\n",
       "  13 => 1\n",
       "  54 => 0\n",
       "  63 => 0\n",
       "  62 => 1\n",
       "  58 => 0\n",
       "  52 => 0\n",
       "  12 => 0\n",
       "  28 => 1\n",
       "  23 => 0\n",
       "  41 => 0\n",
       "  43 => 0\n",
       "  11 => 1\n",
       "  36 => 1\n",
       "  39 => 1\n",
       "  7  => 0\n",
       "  ⋮  => ⋮"
      ]
     },
     "execution_count": 11,
     "metadata": {},
     "output_type": "execute_result"
    }
   ],
   "source": [
    "d = let\n",
    "\n",
    "    # initialize -\n",
    "    bitpattern_dictionary = Dict{Int64,Int64}();\n",
    "    wordsize = 64; # how big is the word size?\n",
    "    a = bitstring(x) |> reverse |> collect .|> v-> parse(Int64,v) # fancy. Nothing to see here, move along (for now anyway).\n",
    "    \n",
    "    # put stuff in the bit pattern dictionary\n",
    "    for i ∈ 0:(wordsize-1)\n",
    "        bitpattern_dictionary[i] = a[i+1];\n",
    "    end\n",
    "    bitpattern_dictionary # return the dictionary\n",
    "end"
   ]
  },
  {
   "cell_type": "markdown",
   "id": "7d8ccbe1-10e6-4408-8dfe-dbcd9651fff7",
   "metadata": {},
   "source": [
    "#### Sign term\n",
    "Now that we have the bit pattern dictionary `d::Dict{Int64, Int64}`, we can compute the components of the 64-bit floating point number. Let's start with the sign value `S::Int64`:"
   ]
  },
  {
   "cell_type": "code",
   "execution_count": 12,
   "id": "ef632009-95dc-4ca6-8461-bfe6644e0ff2",
   "metadata": {},
   "outputs": [
    {
     "data": {
      "text/plain": [
       "1"
      ]
     },
     "execution_count": 12,
     "metadata": {},
     "output_type": "execute_result"
    }
   ],
   "source": [
    "S = let\n",
    "    s = d[63]; # sign bit is at d63\n",
    "    S = (-1)^s # if d63 = 1, we'll have a negative number, d63 = 0 gives us a positive number\n",
    "end"
   ]
  },
  {
   "cell_type": "markdown",
   "id": "f369ab3a-2692-4cdc-b8d0-79e7e16d3a0a",
   "metadata": {},
   "source": [
    "#### Significand\n",
    "Next, we'll compute the significand using the expression above. We'll also check our computed value using [the `significand(...)` method](https://docs.julialang.org/en/v1/base/numbers/#Base.Math.significand) to make sure we are correct. We'll store our calculated value in the `calculated_significand_value::Float64` variable:"
   ]
  },
  {
   "cell_type": "code",
   "execution_count": 13,
   "id": "b5a7ec27-6fc7-485d-bf4e-e0673476c114",
   "metadata": {},
   "outputs": [
    {
     "data": {
      "text/plain": [
       "1.57079632679485"
      ]
     },
     "execution_count": 13,
     "metadata": {},
     "output_type": "execute_result"
    }
   ],
   "source": [
    "calculated_significand_value = let\n",
    "\n",
    "    calculated_significand_value = 0.0;\n",
    "    b = 2.0; # binary, base = 2\n",
    "    lsb = 1; # lsb = least significant bit\n",
    "    msb = 52; # msb = most significant bit\n",
    "    significand_range_array = range(lsb,stop=msb,step=1) |> collect; # range of digits used for the fraction\n",
    "\n",
    "    # loop: process each bit in the significand_range_array -\n",
    "    for i ∈ significand_range_array\n",
    "        calculated_significand_value += (b^(-i))*d[msb-i]\n",
    "    end\n",
    "    calculated_significand_value + 1 # don't forget to add 1\n",
    "end"
   ]
  },
  {
   "cell_type": "markdown",
   "id": "72e518c1-ecec-4eaa-ab86-6031558d1baf",
   "metadata": {},
   "source": [
    "__Check__: Let's use [the `@assert` macro](https://docs.julialang.org/en/v1/base/base/#Base.@assert) to check our calculated significand value against the output of [the `significand(...)` method](https://docs.julialang.org/en/v1/base/numbers/#Base.Math.significand) using [the `==` comparison operator](https://docs.julialang.org/en/v1/manual/missing/#Equality-and-Comparison-Operators). \n",
    "> __What happens?__ If [the `==` comparison](https://docs.julialang.org/en/v1/manual/missing/#Equality-and-Comparison-Operators) comes back `false`, [an `AssertionError` is thrown](https://docs.julialang.org/en/v1/base/base/#Core.AssertionError) (and we know something is wrong with our calculation):\n",
    "\n",
    "So what happens?"
   ]
  },
  {
   "cell_type": "code",
   "execution_count": 14,
   "id": "c547ccbf-f820-41b0-b1e8-a65b2b335ab0",
   "metadata": {},
   "outputs": [],
   "source": [
    "@assert significand(x) == calculated_significand_value # compare built-in versus our calculated value"
   ]
  },
  {
   "cell_type": "markdown",
   "id": "08e7a80e-1337-41c1-acac-782765a8b7ef",
   "metadata": {},
   "source": [
    "#### Exponent scale term: \n",
    "Lastly, let's compute the exponent value $E$, which gives us the scale of the number. We'll save this value in the `E::Float64` variable:"
   ]
  },
  {
   "cell_type": "code",
   "execution_count": 15,
   "id": "f0370649-5b96-4e0c-845f-99cdc9f10bc9",
   "metadata": {},
   "outputs": [
    {
     "data": {
      "text/plain": [
       "1024.0"
      ]
     },
     "execution_count": 15,
     "metadata": {},
     "output_type": "execute_result"
    }
   ],
   "source": [
    "E = let\n",
    "\n",
    "    # initialize \n",
    "    calculated_exponent_value = 0.0;\n",
    "    b = 2.0; # binary, base = 2\n",
    "    lsb = 52; # least significant bit\n",
    "    msb = 62; # most significant bit\n",
    "    exponent_bit_range_array = range(lsb,stop=msb, step = 1) |> collect; # range of bits for E\n",
    "\n",
    "    # loop: Let's process each of the bits in exponent_bit_range_array -\n",
    "    for i ∈ exponent_bit_range_array\n",
    "        calculated_exponent_value += d[i]*(b^(i-lsb))\n",
    "    end\n",
    "    calculated_exponent_value # return\n",
    "end"
   ]
  },
  {
   "cell_type": "markdown",
   "id": "79b9c17d-ed70-4dbc-a1d0-0ebb98445d3f",
   "metadata": {},
   "source": [
    "#### Do we get the same number $x$?\n",
    "If our implementation is correct, we should be able to reconstruct the original 64-bit value $x$ from its bit pattern.\n",
    "\n",
    "> We'll use the `@assert` macro to compare our reconstructed value with the original `x`. If the comparison fails, an `AssertionError` will indicate an issue with the calculation."
   ]
  },
  {
   "cell_type": "code",
   "execution_count": 16,
   "id": "f9d75eaa-2dc2-48fc-b057-f1aac8a5fb02",
   "metadata": {},
   "outputs": [],
   "source": [
    "let\n",
    "    our_calculated_value = S*calculated_significand_value*2^(E - 1023);\n",
    "    @assert our_calculated_value == x # same value for x?\n",
    "end"
   ]
  },
  {
   "cell_type": "markdown",
   "id": "20360aed",
   "metadata": {},
   "source": [
    "### Thought Questions: Floating-Point Precision\n",
    "> We saw that floating-point numbers are approximations due to their fixed bit representation. How might this limitation affect scientific computations or financial calculations? When would you choose Float32 over Float64, and what are the trade-offs? Can you think of a scenario where floating-point precision could lead to unexpected results?\n",
    "\n",
    "> How do the concepts of binary representation, number bases, and floating-point precision connect to real-world programming and scientific computing? Reflect on how understanding these low-level representations might change how you approach writing code or interpreting computational results. What new questions do you have about computer arithmetic after working through this notebook?"
   ]
  },
  {
   "cell_type": "markdown",
   "id": "49771386",
   "metadata": {},
   "source": [
    "## Want some more?\n",
    "If you want some more examples of the layout of floating point numbers, then check out this example notebook:\n",
    "\n",
    "> [▶ Layout of a `Float32`](./CHEME-5800-L1d-Optional-Example-FunWith32BitFloatingPointTypes-Fall-2025.ipynb). In this example, we will analyze the layout of a `Float32` floating point variable in a computer's memory. This example is similar to our 64-bit floating point variable example (but we only have 32 bits to work with)."
   ]
  },
  {
   "cell_type": "markdown",
   "id": "b3d7d948",
   "metadata": {},
   "source": [
    "## Tests\n",
    "In the code block below, we check some values in your notebook and give you feedback on which items are correct or different. `Unhide` the code block below (if you are curious) about how we implemented the tests and what we are testing."
   ]
  },
  {
   "cell_type": "code",
   "execution_count": 17,
   "id": "3ffb8843",
   "metadata": {},
   "outputs": [
    {
     "name": "stdout",
     "output_type": "stream",
     "text": [
      "\u001b[0m\u001b[1mTest Summary:                    | \u001b[22m\u001b[32m\u001b[1mPass  \u001b[22m\u001b[39m\u001b[36m\u001b[1mTotal  \u001b[22m\u001b[39m\u001b[0m\u001b[1mTime\u001b[22m\n",
      "CHEME 4/5800 L1d Test Suite      | \u001b[32m   5  \u001b[39m\u001b[36m    5  \u001b[39m\u001b[0m0.5s\n",
      "  Integer bitstring properties   | \u001b[32m   2  \u001b[39m\u001b[36m    2  \u001b[39m\u001b[0m0.4s\n",
      "  Binary positional sum recovery | \u001b[32m   1  \u001b[39m\u001b[36m    1  \u001b[39m\u001b[0m0.0s\n",
      "  Octal conversion               | \u001b[32m   1  \u001b[39m\u001b[36m    1  \u001b[39m\u001b[0m0.0s\n",
      "  Floating-point reconstruction  | \u001b[32m   1  \u001b[39m\u001b[36m    1  \u001b[39m\u001b[0m0.0s\n"
     ]
    }
   ],
   "source": [
    "let\n",
    "    @testset verbose = true \"CHEME 4/5800 L1d Test Suite\" begin\n",
    "\n",
    "        @testset \"Integer bitstring properties\" begin\n",
    "            x = 32\n",
    "            @test length(bitstring(x)) == 64\n",
    "            @test count_zeros(x) + count_ones(x) == 64\n",
    "        end\n",
    "\n",
    "        @testset \"Binary positional sum recovery\" begin\n",
    "            x = 45678\n",
    "            s = bitstring(x)\n",
    "            bit_pattern_array = bitstring(x) |> collect |> reverse .|> x-> parse(Int,x)\n",
    "            bit_pattern_dictionary = Dict{Int64,Int64}()\n",
    "            for i ∈ eachindex(bit_pattern_array)\n",
    "                bit_pattern_dictionary[i-1] = bit_pattern_array[i]\n",
    "            end\n",
    "            \n",
    "            count = 0\n",
    "            b = 2\n",
    "            positions = keys(bit_pattern_dictionary) |> collect |> sort\n",
    "            for i ∈ positions\n",
    "                dᵢ = bit_pattern_dictionary[i]\n",
    "                count += (dᵢ)*(b^i)\n",
    "            end\n",
    "            @test count == x\n",
    "        end\n",
    "\n",
    "        @testset \"Octal conversion\" begin\n",
    "            n = 74\n",
    "            base = 8\n",
    "            pad = 16\n",
    "            bit_pattern_array_octal = digits(n, base=base, pad=pad)\n",
    "            bit_pattern_dictionary = Dict{Int64,Int64}()\n",
    "            foreach(i -> bit_pattern_dictionary[i-1] = bit_pattern_array_octal[i], \n",
    "                eachindex(bit_pattern_array_octal))\n",
    "            \n",
    "            value = 0.0\n",
    "            b = 8.0\n",
    "            wordsize = 16\n",
    "            bitrangearray = range(0,stop=(wordsize-1),step=1) |> collect\n",
    "            for i ∈ bitrangearray\n",
    "                 dᵢ = bit_pattern_dictionary[i]\n",
    "                 value += (dᵢ)*(b^i)\n",
    "            end\n",
    "            @test value == n\n",
    "        end\n",
    "\n",
    "        @testset \"Floating-point reconstruction\" begin\n",
    "            x = 3.1415926535897\n",
    "            d = let\n",
    "                bitpattern_dictionary = Dict{Int64,Int64}()\n",
    "                wordsize = 64\n",
    "                a = bitstring(x) |> reverse |> collect .|> v-> parse(Int64,v)\n",
    "                for i ∈ 0:(wordsize-1)\n",
    "                    bitpattern_dictionary[i] = a[i+1]\n",
    "                end\n",
    "                bitpattern_dictionary\n",
    "            end\n",
    "            \n",
    "            S = (-1)^d[63]\n",
    "            calculated_significand_value = let\n",
    "                calculated_significand_value = 0.0\n",
    "                b = 2.0\n",
    "                lsb = 1\n",
    "                msb = 52\n",
    "                significand_range_array = range(lsb,stop=msb,step=1) |> collect\n",
    "                for i ∈ significand_range_array\n",
    "                    calculated_significand_value += (b^(-i))*d[msb-i]\n",
    "                end\n",
    "                calculated_significand_value + 1\n",
    "            end\n",
    "            \n",
    "            E = let\n",
    "                calculated_exponent_value = 0.0\n",
    "                b = 2.0\n",
    "                lsb = 52\n",
    "                msb = 62\n",
    "                exponent_bit_range_array = range(lsb,stop=msb, step = 1) |> collect\n",
    "                for i ∈ exponent_bit_range_array\n",
    "                    calculated_exponent_value += d[i]*(b^(i-lsb))\n",
    "                end\n",
    "                calculated_exponent_value\n",
    "            end\n",
    "            \n",
    "            our_calculated_value = S*calculated_significand_value*2^(E - 1023)\n",
    "            @test our_calculated_value == x\n",
    "        end\n",
    "    end\n",
    "end;"
   ]
  }
 ],
 "metadata": {
  "kernelspec": {
   "display_name": "Julia 1.11.6",
   "language": "julia",
   "name": "julia-1.11"
  },
  "language_info": {
   "file_extension": ".jl",
   "mimetype": "application/julia",
   "name": "julia",
   "version": "1.11.6"
  }
 },
 "nbformat": 4,
 "nbformat_minor": 5
}
